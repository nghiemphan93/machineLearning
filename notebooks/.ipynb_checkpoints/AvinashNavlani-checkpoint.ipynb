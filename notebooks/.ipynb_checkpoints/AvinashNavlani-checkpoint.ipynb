{
 "cells": [
  {
   "cell_type": "code",
   "execution_count": 1,
   "metadata": {},
   "outputs": [],
   "source": [
    "# region Import\n",
    "import pickle\n",
    "import numpy as np\n",
    "import pandas as pd\n",
    "import matplotlib.pyplot as plt\n",
    "import seaborn as sns\n",
    "import seaborn as sns\n",
    "import datetime as dt\n",
    "\n",
    "sns.set()\n",
    "pd.set_option('display.expand_frame_repr', False)\n",
    "# endregion"
   ]
  },
  {
   "cell_type": "code",
   "execution_count": 2,
   "metadata": {},
   "outputs": [],
   "source": [
    "filePickle = 'C:/Users/phan/OneDrive - adesso Group/DataSet/Online Retail.pickle'\n",
    "with open(file=filePickle, mode='rb') as f:\n",
    "   df = pickle.load(f)"
   ]
  },
  {
   "cell_type": "code",
   "execution_count": 3,
   "metadata": {},
   "outputs": [],
   "source": [
    "df = df[df['Country'] == 'United Kingdom']\n",
    "df = df[df['Quantity'] > 0]\n",
    "df = df[['CustomerID', 'InvoiceDate', 'InvoiceNo', 'Quantity', 'UnitPrice']]\n",
    "df['TotalPrice'] = df['Quantity'] * df['UnitPrice']\n",
    "PRESENT = dt.datetime(2011, 12, 10)"
   ]
  },
  {
   "cell_type": "code",
   "execution_count": 8,
   "metadata": {},
   "outputs": [],
   "source": [
    "rfm: pd.DataFrame = df.groupby('CustomerID').agg({\n",
    "   'InvoiceDate': lambda date: (PRESENT - date.max()).days,\n",
    "   'InvoiceNo': lambda num: len(num),\n",
    "   'TotalPrice': lambda price: price.sum()\n",
    "})"
   ]
  },
  {
   "cell_type": "code",
   "execution_count": 9,
   "metadata": {},
   "outputs": [],
   "source": [
    "rfm.columns = ['recency', 'frequency', 'monetary']\n",
    "qua = pd.qcut(x=range(100), q=4, labels=['1', '2', '3', '4'])"
   ]
  },
  {
   "cell_type": "code",
   "execution_count": 10,
   "metadata": {},
   "outputs": [],
   "source": [
    "rfm['rQuartile'] = pd.qcut(x=rfm['recency'], q=4, labels=['1', '2', '3', '4'])\n",
    "rfm['fQuartile'] = pd.qcut(x=rfm['frequency'], q=4, labels=['4', '3', '2', '1'])\n",
    "rfm['mQuartile'] = pd.qcut(x=rfm['monetary'], q=4, labels=['4', '3', '2', '1'])"
   ]
  },
  {
   "cell_type": "code",
   "execution_count": 12,
   "metadata": {},
   "outputs": [],
   "source": [
    "rfm['rfmScore'] = rfm['rQuartile'].astype('str') + rfm['fQuartile'].astype('str') + rfm['mQuartile'].astype('str')"
   ]
  },
  {
   "cell_type": "code",
   "execution_count": 15,
   "metadata": {},
   "outputs": [
    {
     "data": {
      "text/html": [
       "<div>\n",
       "<style scoped>\n",
       "    .dataframe tbody tr th:only-of-type {\n",
       "        vertical-align: middle;\n",
       "    }\n",
       "\n",
       "    .dataframe tbody tr th {\n",
       "        vertical-align: top;\n",
       "    }\n",
       "\n",
       "    .dataframe thead th {\n",
       "        text-align: right;\n",
       "    }\n",
       "</style>\n",
       "<table border=\"1\" class=\"dataframe\">\n",
       "  <thead>\n",
       "    <tr style=\"text-align: right;\">\n",
       "      <th></th>\n",
       "      <th>recency</th>\n",
       "      <th>frequency</th>\n",
       "      <th>monetary</th>\n",
       "      <th>rQuartile</th>\n",
       "      <th>fQuartile</th>\n",
       "      <th>mQuartile</th>\n",
       "      <th>rfmScore</th>\n",
       "    </tr>\n",
       "    <tr>\n",
       "      <th>CustomerID</th>\n",
       "      <th></th>\n",
       "      <th></th>\n",
       "      <th></th>\n",
       "      <th></th>\n",
       "      <th></th>\n",
       "      <th></th>\n",
       "      <th></th>\n",
       "    </tr>\n",
       "  </thead>\n",
       "  <tbody>\n",
       "    <tr>\n",
       "      <th>16814.0</th>\n",
       "      <td>14</td>\n",
       "      <td>324</td>\n",
       "      <td>6509.10</td>\n",
       "      <td>1</td>\n",
       "      <td>1</td>\n",
       "      <td>1</td>\n",
       "      <td>111</td>\n",
       "    </tr>\n",
       "    <tr>\n",
       "      <th>15214.0</th>\n",
       "      <td>1</td>\n",
       "      <td>110</td>\n",
       "      <td>1661.44</td>\n",
       "      <td>1</td>\n",
       "      <td>1</td>\n",
       "      <td>1</td>\n",
       "      <td>111</td>\n",
       "    </tr>\n",
       "    <tr>\n",
       "      <th>17750.0</th>\n",
       "      <td>5</td>\n",
       "      <td>193</td>\n",
       "      <td>1797.57</td>\n",
       "      <td>1</td>\n",
       "      <td>1</td>\n",
       "      <td>1</td>\n",
       "      <td>111</td>\n",
       "    </tr>\n",
       "    <tr>\n",
       "      <th>17744.0</th>\n",
       "      <td>3</td>\n",
       "      <td>136</td>\n",
       "      <td>2322.40</td>\n",
       "      <td>1</td>\n",
       "      <td>1</td>\n",
       "      <td>1</td>\n",
       "      <td>111</td>\n",
       "    </tr>\n",
       "    <tr>\n",
       "      <th>16839.0</th>\n",
       "      <td>8</td>\n",
       "      <td>266</td>\n",
       "      <td>16594.35</td>\n",
       "      <td>1</td>\n",
       "      <td>1</td>\n",
       "      <td>1</td>\n",
       "      <td>111</td>\n",
       "    </tr>\n",
       "  </tbody>\n",
       "</table>\n",
       "</div>"
      ],
      "text/plain": [
       "            recency  frequency  monetary rQuartile fQuartile mQuartile rfmScore\n",
       "CustomerID                                                                     \n",
       "16814.0          14        324   6509.10         1         1         1      111\n",
       "15214.0           1        110   1661.44         1         1         1      111\n",
       "17750.0           5        193   1797.57         1         1         1      111\n",
       "17744.0           3        136   2322.40         1         1         1      111\n",
       "16839.0           8        266  16594.35         1         1         1      111"
      ]
     },
     "execution_count": 15,
     "metadata": {},
     "output_type": "execute_result"
    }
   ],
   "source": [
    "rfm.sort_values('rfmScore').head()"
   ]
  },
  {
   "cell_type": "code",
   "execution_count": null,
   "metadata": {},
   "outputs": [],
   "source": []
  }
 ],
 "metadata": {
  "kernelspec": {
   "display_name": "Python [conda env:datascience] *",
   "language": "python",
   "name": "conda-env-datascience-py"
  },
  "language_info": {
   "codemirror_mode": {
    "name": "ipython",
    "version": 3
   },
   "file_extension": ".py",
   "mimetype": "text/x-python",
   "name": "python",
   "nbconvert_exporter": "python",
   "pygments_lexer": "ipython3",
   "version": "3.6.8"
  }
 },
 "nbformat": 4,
 "nbformat_minor": 2
}
