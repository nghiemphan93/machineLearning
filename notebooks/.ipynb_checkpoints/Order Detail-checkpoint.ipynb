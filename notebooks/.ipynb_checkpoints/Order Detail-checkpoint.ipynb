{
 "cells": [
  {
   "cell_type": "code",
   "execution_count": 1,
   "metadata": {},
   "outputs": [],
   "source": [
    "# region Import\n",
    "import pickle\n",
    "import numpy as np\n",
    "import pandas as pd\n",
    "import matplotlib.pyplot as plt\n",
    "import seaborn as sns\n",
    "import seaborn as sns\n",
    "import datetime as dt\n",
    "\n",
    "sns.set()\n",
    "pd.set_option('display.expand_frame_repr', False)\n",
    "# endregion"
   ]
  },
  {
   "cell_type": "markdown",
   "metadata": {},
   "source": [
    "# Split Data by Year"
   ]
  },
  {
   "cell_type": "code",
   "execution_count": 2,
   "metadata": {},
   "outputs": [],
   "source": [
    "filePickle = 'C:/Users/phan/OneDrive - adesso Group/bofrost-data/f_umsatz_pos.pickle'\n",
    "with open(file=filePickle, mode='rb') as f:\n",
    "   detail: pd.DataFrame = pickle.load(f)"
   ]
  },
  {
   "cell_type": "code",
   "execution_count": 3,
   "metadata": {},
   "outputs": [
    {
     "data": {
      "text/html": [
       "<div>\n",
       "<style scoped>\n",
       "    .dataframe tbody tr th:only-of-type {\n",
       "        vertical-align: middle;\n",
       "    }\n",
       "\n",
       "    .dataframe tbody tr th {\n",
       "        vertical-align: top;\n",
       "    }\n",
       "\n",
       "    .dataframe thead th {\n",
       "        text-align: right;\n",
       "    }\n",
       "</style>\n",
       "<table border=\"1\" class=\"dataframe\">\n",
       "  <thead>\n",
       "    <tr style=\"text-align: right;\">\n",
       "      <th></th>\n",
       "      <th>liefer_id</th>\n",
       "      <th>kunden_oid</th>\n",
       "      <th>liefer_dtm</th>\n",
       "      <th>artikel_oid</th>\n",
       "      <th>menge</th>\n",
       "      <th>position_btr_eur</th>\n",
       "    </tr>\n",
       "  </thead>\n",
       "  <tbody>\n",
       "    <tr>\n",
       "      <th>0</th>\n",
       "      <td>1075|5177980|VSS</td>\n",
       "      <td>415279454</td>\n",
       "      <td>2016-01-04</td>\n",
       "      <td>627</td>\n",
       "      <td>1</td>\n",
       "      <td>4.95</td>\n",
       "    </tr>\n",
       "    <tr>\n",
       "      <th>1</th>\n",
       "      <td>1038|9066578|VSS</td>\n",
       "      <td>47744092</td>\n",
       "      <td>2016-01-04</td>\n",
       "      <td>1602</td>\n",
       "      <td>1</td>\n",
       "      <td>7.95</td>\n",
       "    </tr>\n",
       "    <tr>\n",
       "      <th>2</th>\n",
       "      <td>1060|6056196|VSS</td>\n",
       "      <td>656180425</td>\n",
       "      <td>2016-01-04</td>\n",
       "      <td>1602</td>\n",
       "      <td>1</td>\n",
       "      <td>7.95</td>\n",
       "    </tr>\n",
       "    <tr>\n",
       "      <th>3</th>\n",
       "      <td>1123|10605481|VSS</td>\n",
       "      <td>109003158</td>\n",
       "      <td>2016-01-04</td>\n",
       "      <td>1675</td>\n",
       "      <td>1</td>\n",
       "      <td>4.95</td>\n",
       "    </tr>\n",
       "    <tr>\n",
       "      <th>4</th>\n",
       "      <td>1090|8207424|VSS</td>\n",
       "      <td>601004380</td>\n",
       "      <td>2016-01-04</td>\n",
       "      <td>9244</td>\n",
       "      <td>1</td>\n",
       "      <td>7.95</td>\n",
       "    </tr>\n",
       "  </tbody>\n",
       "</table>\n",
       "</div>"
      ],
      "text/plain": [
       "           liefer_id  kunden_oid liefer_dtm  artikel_oid  menge  position_btr_eur\n",
       "0   1075|5177980|VSS   415279454 2016-01-04          627      1              4.95\n",
       "1   1038|9066578|VSS    47744092 2016-01-04         1602      1              7.95\n",
       "2   1060|6056196|VSS   656180425 2016-01-04         1602      1              7.95\n",
       "3  1123|10605481|VSS   109003158 2016-01-04         1675      1              4.95\n",
       "4   1090|8207424|VSS   601004380 2016-01-04         9244      1              7.95"
      ]
     },
     "execution_count": 3,
     "metadata": {},
     "output_type": "execute_result"
    }
   ],
   "source": [
    "detail.head()"
   ]
  },
  {
   "cell_type": "code",
   "execution_count": 7,
   "metadata": {},
   "outputs": [],
   "source": [
    "detail2016 = detail[detail['liefer_dtm'].dt.year == 2016]\n",
    "filePickle = 'C:/Users/phan/OneDrive - adesso Group/bofrost-data/Umsatz nach Jahr geteilt/f_umsatz_pos_2016.pickle'\n",
    "with open(file=filePickle, mode='wb') as f:\n",
    "   pickle.dump(detail2016, f, protocol=4)"
   ]
  },
  {
   "cell_type": "code",
   "execution_count": 8,
   "metadata": {},
   "outputs": [],
   "source": [
    "detail2017 = detail[detail['liefer_dtm'].dt.year == 2017]\n",
    "filePickle = 'C:/Users/phan/OneDrive - adesso Group/bofrost-data/Umsatz nach Jahr geteilt/f_umsatz_pos_2017.pickle'\n",
    "with open(file=filePickle, mode='wb') as f:\n",
    "   pickle.dump(detail2017, f, protocol=4)"
   ]
  },
  {
   "cell_type": "code",
   "execution_count": 9,
   "metadata": {},
   "outputs": [],
   "source": [
    "detail2018 = detail[detail['liefer_dtm'].dt.year == 2018]\n",
    "filePickle = 'C:/Users/phan/OneDrive - adesso Group/bofrost-data/Umsatz nach Jahr geteilt/f_umsatz_pos_2018.pickle'\n",
    "with open(file=filePickle, mode='wb') as f:\n",
    "   pickle.dump(detail2018, f, protocol=4)"
   ]
  },
  {
   "cell_type": "code",
   "execution_count": 10,
   "metadata": {},
   "outputs": [],
   "source": [
    "detail2019 = detail[detail['liefer_dtm'].dt.year == 2019]\n",
    "filePickle = 'C:/Users/phan/OneDrive - adesso Group/bofrost-data/Umsatz nach Jahr geteilt/f_umsatz_pos_2019.pickle'\n",
    "with open(file=filePickle, mode='wb') as f:\n",
    "   pickle.dump(detail2019, f, protocol=4)"
   ]
  },
  {
   "cell_type": "code",
   "execution_count": 11,
   "metadata": {},
   "outputs": [
    {
     "name": "stdout",
     "output_type": "stream",
     "text": [
      "<class 'pandas.core.frame.DataFrame'>\n",
      "RangeIndex: 295311066 entries, 0 to 295311065\n",
      "Data columns (total 6 columns):\n",
      "liefer_id           object\n",
      "kunden_oid          uint32\n",
      "liefer_dtm          datetime64[ns]\n",
      "artikel_oid         uint16\n",
      "menge               uint16\n",
      "position_btr_eur    float32\n",
      "dtypes: datetime64[ns](1), float32(1), object(1), uint16(2), uint32(1)\n",
      "memory usage: 7.7+ GB\n"
     ]
    }
   ],
   "source": [
    "detail.info()"
   ]
  },
  {
   "cell_type": "markdown",
   "metadata": {},
   "source": [
    "# Working on Detail2016"
   ]
  },
  {
   "cell_type": "code",
   "execution_count": 2,
   "metadata": {},
   "outputs": [],
   "source": [
    "filePickle = 'C:/Users/phan/OneDrive - adesso Group/bofrost-data/Umsatz nach Jahr geteilt/f_umsatz_pos_2016.pickle'\n",
    "with open(file=filePickle, mode='rb') as f:\n",
    "   detail2016: pd.DataFrame = pickle.load(f)"
   ]
  },
  {
   "cell_type": "code",
   "execution_count": 4,
   "metadata": {},
   "outputs": [
    {
     "data": {
      "text/html": [
       "<div>\n",
       "<style scoped>\n",
       "    .dataframe tbody tr th:only-of-type {\n",
       "        vertical-align: middle;\n",
       "    }\n",
       "\n",
       "    .dataframe tbody tr th {\n",
       "        vertical-align: top;\n",
       "    }\n",
       "\n",
       "    .dataframe thead th {\n",
       "        text-align: right;\n",
       "    }\n",
       "</style>\n",
       "<table border=\"1\" class=\"dataframe\">\n",
       "  <thead>\n",
       "    <tr style=\"text-align: right;\">\n",
       "      <th></th>\n",
       "      <th>liefer_id</th>\n",
       "      <th>kunden_oid</th>\n",
       "      <th>liefer_dtm</th>\n",
       "      <th>artikel_oid</th>\n",
       "      <th>menge</th>\n",
       "      <th>position_btr_eur</th>\n",
       "    </tr>\n",
       "  </thead>\n",
       "  <tbody>\n",
       "    <tr>\n",
       "      <th>0</th>\n",
       "      <td>1075|5177980|VSS</td>\n",
       "      <td>415279454</td>\n",
       "      <td>2016-01-04</td>\n",
       "      <td>627</td>\n",
       "      <td>1</td>\n",
       "      <td>4.95</td>\n",
       "    </tr>\n",
       "    <tr>\n",
       "      <th>1</th>\n",
       "      <td>1038|9066578|VSS</td>\n",
       "      <td>47744092</td>\n",
       "      <td>2016-01-04</td>\n",
       "      <td>1602</td>\n",
       "      <td>1</td>\n",
       "      <td>7.95</td>\n",
       "    </tr>\n",
       "    <tr>\n",
       "      <th>2</th>\n",
       "      <td>1060|6056196|VSS</td>\n",
       "      <td>656180425</td>\n",
       "      <td>2016-01-04</td>\n",
       "      <td>1602</td>\n",
       "      <td>1</td>\n",
       "      <td>7.95</td>\n",
       "    </tr>\n",
       "    <tr>\n",
       "      <th>3</th>\n",
       "      <td>1123|10605481|VSS</td>\n",
       "      <td>109003158</td>\n",
       "      <td>2016-01-04</td>\n",
       "      <td>1675</td>\n",
       "      <td>1</td>\n",
       "      <td>4.95</td>\n",
       "    </tr>\n",
       "    <tr>\n",
       "      <th>4</th>\n",
       "      <td>1090|8207424|VSS</td>\n",
       "      <td>601004380</td>\n",
       "      <td>2016-01-04</td>\n",
       "      <td>9244</td>\n",
       "      <td>1</td>\n",
       "      <td>7.95</td>\n",
       "    </tr>\n",
       "  </tbody>\n",
       "</table>\n",
       "</div>"
      ],
      "text/plain": [
       "           liefer_id  kunden_oid liefer_dtm  artikel_oid  menge  position_btr_eur\n",
       "0   1075|5177980|VSS   415279454 2016-01-04          627      1              4.95\n",
       "1   1038|9066578|VSS    47744092 2016-01-04         1602      1              7.95\n",
       "2   1060|6056196|VSS   656180425 2016-01-04         1602      1              7.95\n",
       "3  1123|10605481|VSS   109003158 2016-01-04         1675      1              4.95\n",
       "4   1090|8207424|VSS   601004380 2016-01-04         9244      1              7.95"
      ]
     },
     "execution_count": 4,
     "metadata": {},
     "output_type": "execute_result"
    }
   ],
   "source": [
    "detail2016.head()"
   ]
  }
 ],
 "metadata": {
  "kernelspec": {
   "display_name": "Python [conda env:datascience] *",
   "language": "python",
   "name": "conda-env-datascience-py"
  },
  "language_info": {
   "codemirror_mode": {
    "name": "ipython",
    "version": 3
   },
   "file_extension": ".py",
   "mimetype": "text/x-python",
   "name": "python",
   "nbconvert_exporter": "python",
   "pygments_lexer": "ipython3",
   "version": "3.6.8"
  }
 },
 "nbformat": 4,
 "nbformat_minor": 2
}
