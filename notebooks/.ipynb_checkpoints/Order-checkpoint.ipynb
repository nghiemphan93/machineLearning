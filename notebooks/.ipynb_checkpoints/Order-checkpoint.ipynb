{
 "cells": [
  {
   "cell_type": "code",
   "execution_count": 3,
   "metadata": {},
   "outputs": [],
   "source": [
    "# region Import\n",
    "import pickle\n",
    "import numpy as np\n",
    "import pandas as pd\n",
    "import matplotlib.pyplot as plt\n",
    "import seaborn as sns\n",
    "import seaborn as sns\n",
    "import datetime as dt\n",
    "import statistics\n",
    "\n",
    "sns.set()\n",
    "pd.set_option('display.expand_frame_repr', False)\n",
    "# endregion"
   ]
  },
  {
   "cell_type": "code",
   "execution_count": 2,
   "metadata": {},
   "outputs": [],
   "source": [
    "filePickle = 'C:/Users/phan/OneDrive - adesso Group/bofrost-data/F_umsatz_kopf.pickle'\n",
    "with open(file=filePickle, mode='rb') as f:\n",
    "   order: pd.DataFrame = pickle.load(f)"
   ]
  },
  {
   "cell_type": "code",
   "execution_count": 3,
   "metadata": {},
   "outputs": [
    {
     "data": {
      "text/html": [
       "<div>\n",
       "<style scoped>\n",
       "    .dataframe tbody tr th:only-of-type {\n",
       "        vertical-align: middle;\n",
       "    }\n",
       "\n",
       "    .dataframe tbody tr th {\n",
       "        vertical-align: top;\n",
       "    }\n",
       "\n",
       "    .dataframe thead th {\n",
       "        text-align: right;\n",
       "    }\n",
       "</style>\n",
       "<table border=\"1\" class=\"dataframe\">\n",
       "  <thead>\n",
       "    <tr style=\"text-align: right;\">\n",
       "      <th></th>\n",
       "      <th>kunden_oid</th>\n",
       "      <th>liefer_id</th>\n",
       "      <th>liefer_dtm</th>\n",
       "      <th>auftragswert_btr_eur</th>\n",
       "    </tr>\n",
       "  </thead>\n",
       "  <tbody>\n",
       "    <tr>\n",
       "      <th>0</th>\n",
       "      <td>416498839</td>\n",
       "      <td>1063|4247608|VSS</td>\n",
       "      <td>2016-01-04</td>\n",
       "      <td>0.00</td>\n",
       "    </tr>\n",
       "    <tr>\n",
       "      <th>1</th>\n",
       "      <td>642879669</td>\n",
       "      <td>1027|5596321|VSS</td>\n",
       "      <td>2016-01-04</td>\n",
       "      <td>15.60</td>\n",
       "    </tr>\n",
       "    <tr>\n",
       "      <th>2</th>\n",
       "      <td>431596512</td>\n",
       "      <td>1049|10887493|VSS</td>\n",
       "      <td>2016-01-04</td>\n",
       "      <td>0.00</td>\n",
       "    </tr>\n",
       "    <tr>\n",
       "      <th>3</th>\n",
       "      <td>652819689</td>\n",
       "      <td>1032|4292937|VSS</td>\n",
       "      <td>2016-01-04</td>\n",
       "      <td>25.85</td>\n",
       "    </tr>\n",
       "    <tr>\n",
       "      <th>4</th>\n",
       "      <td>415693980</td>\n",
       "      <td>1075|5177632|VSS</td>\n",
       "      <td>2016-01-04</td>\n",
       "      <td>0.00</td>\n",
       "    </tr>\n",
       "  </tbody>\n",
       "</table>\n",
       "</div>"
      ],
      "text/plain": [
       "   kunden_oid          liefer_id liefer_dtm  auftragswert_btr_eur\n",
       "0   416498839   1063|4247608|VSS 2016-01-04                  0.00\n",
       "1   642879669   1027|5596321|VSS 2016-01-04                 15.60\n",
       "2   431596512  1049|10887493|VSS 2016-01-04                  0.00\n",
       "3   652819689   1032|4292937|VSS 2016-01-04                 25.85\n",
       "4   415693980   1075|5177632|VSS 2016-01-04                  0.00"
      ]
     },
     "execution_count": 3,
     "metadata": {},
     "output_type": "execute_result"
    }
   ],
   "source": [
    "order.head()"
   ]
  },
  {
   "cell_type": "code",
   "execution_count": 4,
   "metadata": {},
   "outputs": [
    {
     "name": "stdout",
     "output_type": "stream",
     "text": [
      "<class 'pandas.core.frame.DataFrame'>\n",
      "RangeIndex: 118046499 entries, 0 to 118046498\n",
      "Data columns (total 4 columns):\n",
      "kunden_oid              uint32\n",
      "liefer_id               object\n",
      "liefer_dtm              datetime64[ns]\n",
      "auftragswert_btr_eur    float32\n",
      "dtypes: datetime64[ns](1), float32(1), object(1), uint32(1)\n",
      "memory usage: 2.6+ GB\n"
     ]
    }
   ],
   "source": [
    "order.info()"
   ]
  },
  {
   "cell_type": "markdown",
   "metadata": {},
   "source": [
    "# Change dtypes"
   ]
  },
  {
   "cell_type": "code",
   "execution_count": 24,
   "metadata": {},
   "outputs": [
    {
     "data": {
      "text/plain": [
       "11"
      ]
     },
     "execution_count": 24,
     "metadata": {},
     "output_type": "execute_result"
    }
   ],
   "source": [
    "order['kunden_oid'].min()"
   ]
  },
  {
   "cell_type": "code",
   "execution_count": 25,
   "metadata": {},
   "outputs": [
    {
     "data": {
      "text/plain": [
       "995003180"
      ]
     },
     "execution_count": 25,
     "metadata": {},
     "output_type": "execute_result"
    }
   ],
   "source": [
    "order['kunden_oid'].max()"
   ]
  },
  {
   "cell_type": "code",
   "execution_count": 28,
   "metadata": {},
   "outputs": [],
   "source": [
    "order['kunden_oid'] = order['kunden_oid'].astype('uint32')"
   ]
  },
  {
   "cell_type": "code",
   "execution_count": 30,
   "metadata": {},
   "outputs": [
    {
     "name": "stdout",
     "output_type": "stream",
     "text": [
      "<class 'pandas.core.frame.DataFrame'>\n",
      "RangeIndex: 118046499 entries, 0 to 118046498\n",
      "Data columns (total 4 columns):\n",
      "kunden_oid              uint32\n",
      "liefer_id               object\n",
      "liefer_dtm              datetime64[ns]\n",
      "auftragswert_btr_eur    float32\n",
      "dtypes: datetime64[ns](1), float32(1), object(1), uint32(1)\n",
      "memory usage: 2.6+ GB\n"
     ]
    }
   ],
   "source": [
    "order.info()"
   ]
  },
  {
   "cell_type": "code",
   "execution_count": 31,
   "metadata": {},
   "outputs": [],
   "source": [
    "filePickle = 'C:/Users/phan/PycharmProjects/bigquery-dl/order.pickle'\n",
    "with open(file=filePickle, mode='wb') as f:\n",
    "   pickle.dump(order, f, protocol=4)"
   ]
  },
  {
   "cell_type": "code",
   "execution_count": 10,
   "metadata": {},
   "outputs": [
    {
     "name": "stdout",
     "output_type": "stream",
     "text": [
      "<class 'pandas.core.frame.DataFrame'>\n",
      "RangeIndex: 118046499 entries, 0 to 118046498\n",
      "Data columns (total 1 columns):\n",
      "liefer_id    object\n",
      "dtypes: object(1)\n",
      "memory usage: 900.6+ MB\n"
     ]
    }
   ],
   "source": [
    "pd.DataFrame(order['liefer_id']).info()"
   ]
  },
  {
   "cell_type": "code",
   "execution_count": 9,
   "metadata": {},
   "outputs": [
    {
     "name": "stdout",
     "output_type": "stream",
     "text": [
      "<class 'pandas.core.frame.DataFrame'>\n",
      "RangeIndex: 118046499 entries, 0 to 118046498\n",
      "Data columns (total 1 columns):\n",
      "liefer_id    object\n",
      "dtypes: object(1)\n",
      "memory usage: 900.6+ MB\n"
     ]
    }
   ],
   "source": [
    "pd.DataFrame(order['liefer_id'].str.slice(0, -4)).info()\n"
   ]
  },
  {
   "cell_type": "code",
   "execution_count": 16,
   "metadata": {},
   "outputs": [],
   "source": [
    "order2016 = order[order['liefer_dtm'].dt.year == 2016]"
   ]
  },
  {
   "cell_type": "code",
   "execution_count": 18,
   "metadata": {},
   "outputs": [],
   "source": [
    "order2017 = order[order['liefer_dtm'].dt.year == 2017]\n",
    "order2018 = order[order['liefer_dtm'].dt.year == 2018]\n",
    "order2019 = order[order['liefer_dtm'].dt.year == 2019]\n"
   ]
  },
  {
   "cell_type": "code",
   "execution_count": 19,
   "metadata": {},
   "outputs": [],
   "source": [
    "filePickle = 'C:/Users/phan/OneDrive - adesso Group/bofrost-data/Umsatz nach Jahr geteilt/F_umsatz_kopf_2016.pickle'\n",
    "with open(file=filePickle, mode='wb') as f:\n",
    "   pickle.dump(order2016, f, protocol=4)"
   ]
  },
  {
   "cell_type": "code",
   "execution_count": 20,
   "metadata": {},
   "outputs": [],
   "source": [
    "filePickle = 'C:/Users/phan/OneDrive - adesso Group/bofrost-data/Umsatz nach Jahr geteilt/F_umsatz_kopf_2017.pickle'\n",
    "with open(file=filePickle, mode='wb') as f:\n",
    "   pickle.dump(order2017, f, protocol=4)\n",
    "\n",
    "filePickle = 'C:/Users/phan/OneDrive - adesso Group/bofrost-data/Umsatz nach Jahr geteilt/F_umsatz_kopf_2018.pickle'\n",
    "with open(file=filePickle, mode='wb') as f:\n",
    "   pickle.dump(order2018, f, protocol=4)\n",
    "\n",
    "filePickle = 'C:/Users/phan/OneDrive - adesso Group/bofrost-data/Umsatz nach Jahr geteilt/F_umsatz_kopf_2019.pickle'\n",
    "with open(file=filePickle, mode='wb') as f:\n",
    "   pickle.dump(order2019, f, protocol=4)"
   ]
  },
  {
   "cell_type": "markdown",
   "metadata": {},
   "source": [
    "# Working on 2016"
   ]
  },
  {
   "cell_type": "code",
   "execution_count": 2,
   "metadata": {},
   "outputs": [
    {
     "ename": "NameError",
     "evalue": "name 'pickle' is not defined",
     "output_type": "error",
     "traceback": [
      "\u001b[1;31m---------------------------------------------------------------------------\u001b[0m",
      "\u001b[1;31mNameError\u001b[0m                                 Traceback (most recent call last)",
      "\u001b[1;32m<ipython-input-2-797a8a60f954>\u001b[0m in \u001b[0;36m<module>\u001b[1;34m\u001b[0m\n\u001b[0;32m      1\u001b[0m \u001b[0mfilePickle\u001b[0m \u001b[1;33m=\u001b[0m \u001b[1;34m'C:/Users/phan/OneDrive - adesso Group/bofrost-data/Umsatz nach Jahr geteilt/F_umsatz_kopf_2016.pickle'\u001b[0m\u001b[1;33m\u001b[0m\u001b[1;33m\u001b[0m\u001b[0m\n\u001b[0;32m      2\u001b[0m \u001b[1;32mwith\u001b[0m \u001b[0mopen\u001b[0m\u001b[1;33m(\u001b[0m\u001b[0mfile\u001b[0m\u001b[1;33m=\u001b[0m\u001b[0mfilePickle\u001b[0m\u001b[1;33m,\u001b[0m \u001b[0mmode\u001b[0m\u001b[1;33m=\u001b[0m\u001b[1;34m'rb'\u001b[0m\u001b[1;33m)\u001b[0m \u001b[1;32mas\u001b[0m \u001b[0mf\u001b[0m\u001b[1;33m:\u001b[0m\u001b[1;33m\u001b[0m\u001b[1;33m\u001b[0m\u001b[0m\n\u001b[1;32m----> 3\u001b[1;33m    \u001b[0morder2016\u001b[0m \u001b[1;33m=\u001b[0m \u001b[0mpickle\u001b[0m\u001b[1;33m.\u001b[0m\u001b[0mload\u001b[0m\u001b[1;33m(\u001b[0m\u001b[0mf\u001b[0m\u001b[1;33m)\u001b[0m\u001b[1;33m\u001b[0m\u001b[1;33m\u001b[0m\u001b[0m\n\u001b[0m\u001b[0;32m      4\u001b[0m \u001b[0morder2016\u001b[0m\u001b[1;33m.\u001b[0m\u001b[0mhead\u001b[0m\u001b[1;33m(\u001b[0m\u001b[1;33m)\u001b[0m\u001b[1;33m\u001b[0m\u001b[1;33m\u001b[0m\u001b[0m\n",
      "\u001b[1;31mNameError\u001b[0m: name 'pickle' is not defined"
     ]
    }
   ],
   "source": [
    "filePickle = 'C:/Users/phan/OneDrive - adesso Group/bofrost-data/Umsatz nach Jahr geteilt/F_umsatz_kopf_2016.pickle'\n",
    "with open(file=filePickle, mode='rb') as f:\n",
    "   order2016 = pickle.load(f)\n",
    "order2016.head()"
   ]
  },
  {
   "cell_type": "code",
   "execution_count": 1,
   "metadata": {
    "scrolled": true
   },
   "outputs": [
    {
     "ename": "NameError",
     "evalue": "name 'order2016' is not defined",
     "output_type": "error",
     "traceback": [
      "\u001b[1;31m---------------------------------------------------------------------------\u001b[0m",
      "\u001b[1;31mNameError\u001b[0m                                 Traceback (most recent call last)",
      "\u001b[1;32m<ipython-input-1-3fce299df5dc>\u001b[0m in \u001b[0;36m<module>\u001b[1;34m\u001b[0m\n\u001b[1;32m----> 1\u001b[1;33m \u001b[0morder2016\u001b[0m\u001b[1;33m.\u001b[0m\u001b[0minfo\u001b[0m\u001b[1;33m(\u001b[0m\u001b[1;33m)\u001b[0m\u001b[1;33m\u001b[0m\u001b[1;33m\u001b[0m\u001b[0m\n\u001b[0m",
      "\u001b[1;31mNameError\u001b[0m: name 'order2016' is not defined"
     ]
    }
   ],
   "source": [
    "order2016.info()"
   ]
  },
  {
   "cell_type": "code",
   "execution_count": 108,
   "metadata": {},
   "outputs": [
    {
     "data": {
      "text/html": [
       "<div>\n",
       "<style scoped>\n",
       "    .dataframe tbody tr th:only-of-type {\n",
       "        vertical-align: middle;\n",
       "    }\n",
       "\n",
       "    .dataframe tbody tr th {\n",
       "        vertical-align: top;\n",
       "    }\n",
       "\n",
       "    .dataframe thead th {\n",
       "        text-align: right;\n",
       "    }\n",
       "</style>\n",
       "<table border=\"1\" class=\"dataframe\">\n",
       "  <thead>\n",
       "    <tr style=\"text-align: right;\">\n",
       "      <th></th>\n",
       "      <th>kunden_oid</th>\n",
       "      <th>liefer_id</th>\n",
       "      <th>liefer_dtm</th>\n",
       "      <th>auftragswert_btr_eur</th>\n",
       "    </tr>\n",
       "  </thead>\n",
       "  <tbody>\n",
       "    <tr>\n",
       "      <th>4</th>\n",
       "      <td>415693980</td>\n",
       "      <td>1075|5177632|VSS</td>\n",
       "      <td>2016-01-04</td>\n",
       "      <td>0.000000</td>\n",
       "    </tr>\n",
       "    <tr>\n",
       "      <th>403358</th>\n",
       "      <td>415693980</td>\n",
       "      <td>1075|5181844|VSS</td>\n",
       "      <td>2016-01-07</td>\n",
       "      <td>40.349998</td>\n",
       "    </tr>\n",
       "    <tr>\n",
       "      <th>2638275</th>\n",
       "      <td>415693980</td>\n",
       "      <td>1075|5194487|VSS</td>\n",
       "      <td>2016-01-27</td>\n",
       "      <td>0.000000</td>\n",
       "    </tr>\n",
       "    <tr>\n",
       "      <th>3924946</th>\n",
       "      <td>415693980</td>\n",
       "      <td>1075|5201859|VSS</td>\n",
       "      <td>2016-02-08</td>\n",
       "      <td>39.799999</td>\n",
       "    </tr>\n",
       "    <tr>\n",
       "      <th>5708773</th>\n",
       "      <td>415693980</td>\n",
       "      <td>1075|5211954|VSS</td>\n",
       "      <td>2016-02-24</td>\n",
       "      <td>0.000000</td>\n",
       "    </tr>\n",
       "    <tr>\n",
       "      <th>8483410</th>\n",
       "      <td>415693980</td>\n",
       "      <td>1075|5226655|VSS</td>\n",
       "      <td>2016-03-17</td>\n",
       "      <td>64.650002</td>\n",
       "    </tr>\n",
       "    <tr>\n",
       "      <th>9139628</th>\n",
       "      <td>415693980</td>\n",
       "      <td>1075|5230537|VSS</td>\n",
       "      <td>2016-03-23</td>\n",
       "      <td>0.000000</td>\n",
       "    </tr>\n",
       "    <tr>\n",
       "      <th>11815798</th>\n",
       "      <td>415693980</td>\n",
       "      <td>1075|5247609|VSS</td>\n",
       "      <td>2016-04-20</td>\n",
       "      <td>0.000000</td>\n",
       "    </tr>\n",
       "    <tr>\n",
       "      <th>13509162</th>\n",
       "      <td>415693980</td>\n",
       "      <td>1075|5258098|VSS</td>\n",
       "      <td>2016-05-06</td>\n",
       "      <td>37.799999</td>\n",
       "    </tr>\n",
       "    <tr>\n",
       "      <th>14504038</th>\n",
       "      <td>415693980</td>\n",
       "      <td>1075|5265229|VSS</td>\n",
       "      <td>2016-05-18</td>\n",
       "      <td>0.000000</td>\n",
       "    </tr>\n",
       "    <tr>\n",
       "      <th>16328184</th>\n",
       "      <td>415693980</td>\n",
       "      <td>1075|5276172|VSS</td>\n",
       "      <td>2016-06-03</td>\n",
       "      <td>0.000000</td>\n",
       "    </tr>\n",
       "    <tr>\n",
       "      <th>19027089</th>\n",
       "      <td>415693980</td>\n",
       "      <td>1075|5292058|VSS</td>\n",
       "      <td>2016-06-29</td>\n",
       "      <td>0.000000</td>\n",
       "    </tr>\n",
       "    <tr>\n",
       "      <th>22283697</th>\n",
       "      <td>415693980</td>\n",
       "      <td>1075|5310598|VSS</td>\n",
       "      <td>2016-07-29</td>\n",
       "      <td>89.800003</td>\n",
       "    </tr>\n",
       "    <tr>\n",
       "      <th>25269976</th>\n",
       "      <td>415693980</td>\n",
       "      <td>1075|5328406|VSS</td>\n",
       "      <td>2016-08-26</td>\n",
       "      <td>34.549999</td>\n",
       "    </tr>\n",
       "    <tr>\n",
       "      <th>28266846</th>\n",
       "      <td>415693980</td>\n",
       "      <td>1075|5345227|VSS</td>\n",
       "      <td>2016-09-23</td>\n",
       "      <td>37.799999</td>\n",
       "    </tr>\n",
       "    <tr>\n",
       "      <th>31146431</th>\n",
       "      <td>415693980</td>\n",
       "      <td>1075|5363403|VSS</td>\n",
       "      <td>2016-10-21</td>\n",
       "      <td>0.000000</td>\n",
       "    </tr>\n",
       "    <tr>\n",
       "      <th>34175401</th>\n",
       "      <td>415693980</td>\n",
       "      <td>1075|5382020|VSS</td>\n",
       "      <td>2016-11-18</td>\n",
       "      <td>35.849998</td>\n",
       "    </tr>\n",
       "    <tr>\n",
       "      <th>37056560</th>\n",
       "      <td>415693980</td>\n",
       "      <td>1075|5399916|VSS</td>\n",
       "      <td>2016-12-12</td>\n",
       "      <td>0.000000</td>\n",
       "    </tr>\n",
       "  </tbody>\n",
       "</table>\n",
       "</div>"
      ],
      "text/plain": [
       "          kunden_oid         liefer_id liefer_dtm  auftragswert_btr_eur\n",
       "4          415693980  1075|5177632|VSS 2016-01-04              0.000000\n",
       "403358     415693980  1075|5181844|VSS 2016-01-07             40.349998\n",
       "2638275    415693980  1075|5194487|VSS 2016-01-27              0.000000\n",
       "3924946    415693980  1075|5201859|VSS 2016-02-08             39.799999\n",
       "5708773    415693980  1075|5211954|VSS 2016-02-24              0.000000\n",
       "8483410    415693980  1075|5226655|VSS 2016-03-17             64.650002\n",
       "9139628    415693980  1075|5230537|VSS 2016-03-23              0.000000\n",
       "11815798   415693980  1075|5247609|VSS 2016-04-20              0.000000\n",
       "13509162   415693980  1075|5258098|VSS 2016-05-06             37.799999\n",
       "14504038   415693980  1075|5265229|VSS 2016-05-18              0.000000\n",
       "16328184   415693980  1075|5276172|VSS 2016-06-03              0.000000\n",
       "19027089   415693980  1075|5292058|VSS 2016-06-29              0.000000\n",
       "22283697   415693980  1075|5310598|VSS 2016-07-29             89.800003\n",
       "25269976   415693980  1075|5328406|VSS 2016-08-26             34.549999\n",
       "28266846   415693980  1075|5345227|VSS 2016-09-23             37.799999\n",
       "31146431   415693980  1075|5363403|VSS 2016-10-21              0.000000\n",
       "34175401   415693980  1075|5382020|VSS 2016-11-18             35.849998\n",
       "37056560   415693980  1075|5399916|VSS 2016-12-12              0.000000"
      ]
     },
     "execution_count": 108,
     "metadata": {},
     "output_type": "execute_result"
    }
   ],
   "source": [
    "order2016[order2016['kunden_oid'] == 415693980]"
   ]
  },
  {
   "cell_type": "code",
   "execution_count": 109,
   "metadata": {
    "scrolled": true
   },
   "outputs": [],
   "source": [
    "kunden415693980 = order2016[order2016['kunden_oid'] == 415693980]"
   ]
  },
  {
   "cell_type": "code",
   "execution_count": 110,
   "metadata": {},
   "outputs": [
    {
     "data": {
      "text/html": [
       "<div>\n",
       "<style scoped>\n",
       "    .dataframe tbody tr th:only-of-type {\n",
       "        vertical-align: middle;\n",
       "    }\n",
       "\n",
       "    .dataframe tbody tr th {\n",
       "        vertical-align: top;\n",
       "    }\n",
       "\n",
       "    .dataframe thead th {\n",
       "        text-align: right;\n",
       "    }\n",
       "</style>\n",
       "<table border=\"1\" class=\"dataframe\">\n",
       "  <thead>\n",
       "    <tr style=\"text-align: right;\">\n",
       "      <th></th>\n",
       "      <th>kunden_oid</th>\n",
       "      <th>liefer_id</th>\n",
       "      <th>liefer_dtm</th>\n",
       "      <th>auftragswert_btr_eur</th>\n",
       "    </tr>\n",
       "  </thead>\n",
       "  <tbody>\n",
       "    <tr>\n",
       "      <th>4</th>\n",
       "      <td>415693980</td>\n",
       "      <td>1075|5177632|VSS</td>\n",
       "      <td>2016-01-04</td>\n",
       "      <td>0.000000</td>\n",
       "    </tr>\n",
       "    <tr>\n",
       "      <th>403358</th>\n",
       "      <td>415693980</td>\n",
       "      <td>1075|5181844|VSS</td>\n",
       "      <td>2016-01-07</td>\n",
       "      <td>40.349998</td>\n",
       "    </tr>\n",
       "    <tr>\n",
       "      <th>2638275</th>\n",
       "      <td>415693980</td>\n",
       "      <td>1075|5194487|VSS</td>\n",
       "      <td>2016-01-27</td>\n",
       "      <td>0.000000</td>\n",
       "    </tr>\n",
       "    <tr>\n",
       "      <th>3924946</th>\n",
       "      <td>415693980</td>\n",
       "      <td>1075|5201859|VSS</td>\n",
       "      <td>2016-02-08</td>\n",
       "      <td>39.799999</td>\n",
       "    </tr>\n",
       "    <tr>\n",
       "      <th>5708773</th>\n",
       "      <td>415693980</td>\n",
       "      <td>1075|5211954|VSS</td>\n",
       "      <td>2016-02-24</td>\n",
       "      <td>0.000000</td>\n",
       "    </tr>\n",
       "    <tr>\n",
       "      <th>8483410</th>\n",
       "      <td>415693980</td>\n",
       "      <td>1075|5226655|VSS</td>\n",
       "      <td>2016-03-17</td>\n",
       "      <td>64.650002</td>\n",
       "    </tr>\n",
       "    <tr>\n",
       "      <th>9139628</th>\n",
       "      <td>415693980</td>\n",
       "      <td>1075|5230537|VSS</td>\n",
       "      <td>2016-03-23</td>\n",
       "      <td>0.000000</td>\n",
       "    </tr>\n",
       "    <tr>\n",
       "      <th>11815798</th>\n",
       "      <td>415693980</td>\n",
       "      <td>1075|5247609|VSS</td>\n",
       "      <td>2016-04-20</td>\n",
       "      <td>0.000000</td>\n",
       "    </tr>\n",
       "    <tr>\n",
       "      <th>13509162</th>\n",
       "      <td>415693980</td>\n",
       "      <td>1075|5258098|VSS</td>\n",
       "      <td>2016-05-06</td>\n",
       "      <td>37.799999</td>\n",
       "    </tr>\n",
       "    <tr>\n",
       "      <th>14504038</th>\n",
       "      <td>415693980</td>\n",
       "      <td>1075|5265229|VSS</td>\n",
       "      <td>2016-05-18</td>\n",
       "      <td>0.000000</td>\n",
       "    </tr>\n",
       "    <tr>\n",
       "      <th>16328184</th>\n",
       "      <td>415693980</td>\n",
       "      <td>1075|5276172|VSS</td>\n",
       "      <td>2016-06-03</td>\n",
       "      <td>0.000000</td>\n",
       "    </tr>\n",
       "    <tr>\n",
       "      <th>19027089</th>\n",
       "      <td>415693980</td>\n",
       "      <td>1075|5292058|VSS</td>\n",
       "      <td>2016-06-29</td>\n",
       "      <td>0.000000</td>\n",
       "    </tr>\n",
       "    <tr>\n",
       "      <th>22283697</th>\n",
       "      <td>415693980</td>\n",
       "      <td>1075|5310598|VSS</td>\n",
       "      <td>2016-07-29</td>\n",
       "      <td>89.800003</td>\n",
       "    </tr>\n",
       "    <tr>\n",
       "      <th>25269976</th>\n",
       "      <td>415693980</td>\n",
       "      <td>1075|5328406|VSS</td>\n",
       "      <td>2016-08-26</td>\n",
       "      <td>34.549999</td>\n",
       "    </tr>\n",
       "    <tr>\n",
       "      <th>28266846</th>\n",
       "      <td>415693980</td>\n",
       "      <td>1075|5345227|VSS</td>\n",
       "      <td>2016-09-23</td>\n",
       "      <td>37.799999</td>\n",
       "    </tr>\n",
       "    <tr>\n",
       "      <th>31146431</th>\n",
       "      <td>415693980</td>\n",
       "      <td>1075|5363403|VSS</td>\n",
       "      <td>2016-10-21</td>\n",
       "      <td>0.000000</td>\n",
       "    </tr>\n",
       "    <tr>\n",
       "      <th>34175401</th>\n",
       "      <td>415693980</td>\n",
       "      <td>1075|5382020|VSS</td>\n",
       "      <td>2016-11-18</td>\n",
       "      <td>35.849998</td>\n",
       "    </tr>\n",
       "    <tr>\n",
       "      <th>37056560</th>\n",
       "      <td>415693980</td>\n",
       "      <td>1075|5399916|VSS</td>\n",
       "      <td>2016-12-12</td>\n",
       "      <td>0.000000</td>\n",
       "    </tr>\n",
       "  </tbody>\n",
       "</table>\n",
       "</div>"
      ],
      "text/plain": [
       "          kunden_oid         liefer_id liefer_dtm  auftragswert_btr_eur\n",
       "4          415693980  1075|5177632|VSS 2016-01-04              0.000000\n",
       "403358     415693980  1075|5181844|VSS 2016-01-07             40.349998\n",
       "2638275    415693980  1075|5194487|VSS 2016-01-27              0.000000\n",
       "3924946    415693980  1075|5201859|VSS 2016-02-08             39.799999\n",
       "5708773    415693980  1075|5211954|VSS 2016-02-24              0.000000\n",
       "8483410    415693980  1075|5226655|VSS 2016-03-17             64.650002\n",
       "9139628    415693980  1075|5230537|VSS 2016-03-23              0.000000\n",
       "11815798   415693980  1075|5247609|VSS 2016-04-20              0.000000\n",
       "13509162   415693980  1075|5258098|VSS 2016-05-06             37.799999\n",
       "14504038   415693980  1075|5265229|VSS 2016-05-18              0.000000\n",
       "16328184   415693980  1075|5276172|VSS 2016-06-03              0.000000\n",
       "19027089   415693980  1075|5292058|VSS 2016-06-29              0.000000\n",
       "22283697   415693980  1075|5310598|VSS 2016-07-29             89.800003\n",
       "25269976   415693980  1075|5328406|VSS 2016-08-26             34.549999\n",
       "28266846   415693980  1075|5345227|VSS 2016-09-23             37.799999\n",
       "31146431   415693980  1075|5363403|VSS 2016-10-21              0.000000\n",
       "34175401   415693980  1075|5382020|VSS 2016-11-18             35.849998\n",
       "37056560   415693980  1075|5399916|VSS 2016-12-12              0.000000"
      ]
     },
     "execution_count": 110,
     "metadata": {},
     "output_type": "execute_result"
    }
   ],
   "source": [
    "kunden415693980"
   ]
  },
  {
   "cell_type": "code",
   "execution_count": 111,
   "metadata": {},
   "outputs": [],
   "source": [
    "kunden415693980 = kunden415693980[kunden415693980['auftragswert_btr_eur'] > 0]"
   ]
  },
  {
   "cell_type": "code",
   "execution_count": 112,
   "metadata": {
    "scrolled": true
   },
   "outputs": [
    {
     "data": {
      "text/html": [
       "<div>\n",
       "<style scoped>\n",
       "    .dataframe tbody tr th:only-of-type {\n",
       "        vertical-align: middle;\n",
       "    }\n",
       "\n",
       "    .dataframe tbody tr th {\n",
       "        vertical-align: top;\n",
       "    }\n",
       "\n",
       "    .dataframe thead th {\n",
       "        text-align: right;\n",
       "    }\n",
       "</style>\n",
       "<table border=\"1\" class=\"dataframe\">\n",
       "  <thead>\n",
       "    <tr style=\"text-align: right;\">\n",
       "      <th></th>\n",
       "      <th>kunden_oid</th>\n",
       "      <th>liefer_id</th>\n",
       "      <th>liefer_dtm</th>\n",
       "      <th>auftragswert_btr_eur</th>\n",
       "    </tr>\n",
       "  </thead>\n",
       "  <tbody>\n",
       "    <tr>\n",
       "      <th>403358</th>\n",
       "      <td>415693980</td>\n",
       "      <td>1075|5181844|VSS</td>\n",
       "      <td>2016-01-07</td>\n",
       "      <td>40.349998</td>\n",
       "    </tr>\n",
       "    <tr>\n",
       "      <th>3924946</th>\n",
       "      <td>415693980</td>\n",
       "      <td>1075|5201859|VSS</td>\n",
       "      <td>2016-02-08</td>\n",
       "      <td>39.799999</td>\n",
       "    </tr>\n",
       "    <tr>\n",
       "      <th>8483410</th>\n",
       "      <td>415693980</td>\n",
       "      <td>1075|5226655|VSS</td>\n",
       "      <td>2016-03-17</td>\n",
       "      <td>64.650002</td>\n",
       "    </tr>\n",
       "    <tr>\n",
       "      <th>13509162</th>\n",
       "      <td>415693980</td>\n",
       "      <td>1075|5258098|VSS</td>\n",
       "      <td>2016-05-06</td>\n",
       "      <td>37.799999</td>\n",
       "    </tr>\n",
       "    <tr>\n",
       "      <th>22283697</th>\n",
       "      <td>415693980</td>\n",
       "      <td>1075|5310598|VSS</td>\n",
       "      <td>2016-07-29</td>\n",
       "      <td>89.800003</td>\n",
       "    </tr>\n",
       "    <tr>\n",
       "      <th>25269976</th>\n",
       "      <td>415693980</td>\n",
       "      <td>1075|5328406|VSS</td>\n",
       "      <td>2016-08-26</td>\n",
       "      <td>34.549999</td>\n",
       "    </tr>\n",
       "    <tr>\n",
       "      <th>28266846</th>\n",
       "      <td>415693980</td>\n",
       "      <td>1075|5345227|VSS</td>\n",
       "      <td>2016-09-23</td>\n",
       "      <td>37.799999</td>\n",
       "    </tr>\n",
       "    <tr>\n",
       "      <th>34175401</th>\n",
       "      <td>415693980</td>\n",
       "      <td>1075|5382020|VSS</td>\n",
       "      <td>2016-11-18</td>\n",
       "      <td>35.849998</td>\n",
       "    </tr>\n",
       "  </tbody>\n",
       "</table>\n",
       "</div>"
      ],
      "text/plain": [
       "          kunden_oid         liefer_id liefer_dtm  auftragswert_btr_eur\n",
       "403358     415693980  1075|5181844|VSS 2016-01-07             40.349998\n",
       "3924946    415693980  1075|5201859|VSS 2016-02-08             39.799999\n",
       "8483410    415693980  1075|5226655|VSS 2016-03-17             64.650002\n",
       "13509162   415693980  1075|5258098|VSS 2016-05-06             37.799999\n",
       "22283697   415693980  1075|5310598|VSS 2016-07-29             89.800003\n",
       "25269976   415693980  1075|5328406|VSS 2016-08-26             34.549999\n",
       "28266846   415693980  1075|5345227|VSS 2016-09-23             37.799999\n",
       "34175401   415693980  1075|5382020|VSS 2016-11-18             35.849998"
      ]
     },
     "execution_count": 112,
     "metadata": {},
     "output_type": "execute_result"
    }
   ],
   "source": [
    "kunden415693980"
   ]
  },
  {
   "cell_type": "code",
   "execution_count": 113,
   "metadata": {
    "scrolled": true
   },
   "outputs": [
    {
     "data": {
      "text/html": [
       "<div>\n",
       "<style scoped>\n",
       "    .dataframe tbody tr th:only-of-type {\n",
       "        vertical-align: middle;\n",
       "    }\n",
       "\n",
       "    .dataframe tbody tr th {\n",
       "        vertical-align: top;\n",
       "    }\n",
       "\n",
       "    .dataframe thead th {\n",
       "        text-align: right;\n",
       "    }\n",
       "</style>\n",
       "<table border=\"1\" class=\"dataframe\">\n",
       "  <thead>\n",
       "    <tr style=\"text-align: right;\">\n",
       "      <th></th>\n",
       "      <th>auftragswert_btr_eur</th>\n",
       "    </tr>\n",
       "    <tr>\n",
       "      <th>liefer_dtm</th>\n",
       "      <th></th>\n",
       "    </tr>\n",
       "  </thead>\n",
       "  <tbody>\n",
       "    <tr>\n",
       "      <th>2016-01-07</th>\n",
       "      <td>40.349998</td>\n",
       "    </tr>\n",
       "    <tr>\n",
       "      <th>2016-02-08</th>\n",
       "      <td>39.799999</td>\n",
       "    </tr>\n",
       "    <tr>\n",
       "      <th>2016-03-17</th>\n",
       "      <td>64.650002</td>\n",
       "    </tr>\n",
       "    <tr>\n",
       "      <th>2016-05-06</th>\n",
       "      <td>37.799999</td>\n",
       "    </tr>\n",
       "    <tr>\n",
       "      <th>2016-07-29</th>\n",
       "      <td>89.800003</td>\n",
       "    </tr>\n",
       "    <tr>\n",
       "      <th>2016-08-26</th>\n",
       "      <td>34.549999</td>\n",
       "    </tr>\n",
       "    <tr>\n",
       "      <th>2016-09-23</th>\n",
       "      <td>37.799999</td>\n",
       "    </tr>\n",
       "    <tr>\n",
       "      <th>2016-11-18</th>\n",
       "      <td>35.849998</td>\n",
       "    </tr>\n",
       "  </tbody>\n",
       "</table>\n",
       "</div>"
      ],
      "text/plain": [
       "            auftragswert_btr_eur\n",
       "liefer_dtm                      \n",
       "2016-01-07             40.349998\n",
       "2016-02-08             39.799999\n",
       "2016-03-17             64.650002\n",
       "2016-05-06             37.799999\n",
       "2016-07-29             89.800003\n",
       "2016-08-26             34.549999\n",
       "2016-09-23             37.799999\n",
       "2016-11-18             35.849998"
      ]
     },
     "execution_count": 113,
     "metadata": {},
     "output_type": "execute_result"
    }
   ],
   "source": [
    "kunden415693980.groupby(by='liefer_dtm').agg({\n",
    "    'auftragswert_btr_eur': lambda wert: sum(wert)\n",
    "})"
   ]
  },
  {
   "cell_type": "code",
   "execution_count": 114,
   "metadata": {},
   "outputs": [
    {
     "data": {
      "text/html": [
       "<div>\n",
       "<style scoped>\n",
       "    .dataframe tbody tr th:only-of-type {\n",
       "        vertical-align: middle;\n",
       "    }\n",
       "\n",
       "    .dataframe tbody tr th {\n",
       "        vertical-align: top;\n",
       "    }\n",
       "\n",
       "    .dataframe thead th {\n",
       "        text-align: right;\n",
       "    }\n",
       "</style>\n",
       "<table border=\"1\" class=\"dataframe\">\n",
       "  <thead>\n",
       "    <tr style=\"text-align: right;\">\n",
       "      <th></th>\n",
       "      <th>kunden_oid</th>\n",
       "      <th>liefer_id</th>\n",
       "      <th>liefer_dtm</th>\n",
       "      <th>auftragswert_btr_eur</th>\n",
       "    </tr>\n",
       "  </thead>\n",
       "  <tbody>\n",
       "    <tr>\n",
       "      <th>403358</th>\n",
       "      <td>415693980</td>\n",
       "      <td>1075|5181844|VSS</td>\n",
       "      <td>2016-01-07</td>\n",
       "      <td>40.349998</td>\n",
       "    </tr>\n",
       "    <tr>\n",
       "      <th>3924946</th>\n",
       "      <td>415693980</td>\n",
       "      <td>1075|5201859|VSS</td>\n",
       "      <td>2016-02-08</td>\n",
       "      <td>39.799999</td>\n",
       "    </tr>\n",
       "    <tr>\n",
       "      <th>8483410</th>\n",
       "      <td>415693980</td>\n",
       "      <td>1075|5226655|VSS</td>\n",
       "      <td>2016-03-17</td>\n",
       "      <td>64.650002</td>\n",
       "    </tr>\n",
       "    <tr>\n",
       "      <th>13509162</th>\n",
       "      <td>415693980</td>\n",
       "      <td>1075|5258098|VSS</td>\n",
       "      <td>2016-05-06</td>\n",
       "      <td>37.799999</td>\n",
       "    </tr>\n",
       "    <tr>\n",
       "      <th>22283697</th>\n",
       "      <td>415693980</td>\n",
       "      <td>1075|5310598|VSS</td>\n",
       "      <td>2016-07-29</td>\n",
       "      <td>89.800003</td>\n",
       "    </tr>\n",
       "    <tr>\n",
       "      <th>25269976</th>\n",
       "      <td>415693980</td>\n",
       "      <td>1075|5328406|VSS</td>\n",
       "      <td>2016-08-26</td>\n",
       "      <td>34.549999</td>\n",
       "    </tr>\n",
       "    <tr>\n",
       "      <th>28266846</th>\n",
       "      <td>415693980</td>\n",
       "      <td>1075|5345227|VSS</td>\n",
       "      <td>2016-09-23</td>\n",
       "      <td>37.799999</td>\n",
       "    </tr>\n",
       "    <tr>\n",
       "      <th>34175401</th>\n",
       "      <td>415693980</td>\n",
       "      <td>1075|5382020|VSS</td>\n",
       "      <td>2016-11-18</td>\n",
       "      <td>35.849998</td>\n",
       "    </tr>\n",
       "  </tbody>\n",
       "</table>\n",
       "</div>"
      ],
      "text/plain": [
       "          kunden_oid         liefer_id liefer_dtm  auftragswert_btr_eur\n",
       "403358     415693980  1075|5181844|VSS 2016-01-07             40.349998\n",
       "3924946    415693980  1075|5201859|VSS 2016-02-08             39.799999\n",
       "8483410    415693980  1075|5226655|VSS 2016-03-17             64.650002\n",
       "13509162   415693980  1075|5258098|VSS 2016-05-06             37.799999\n",
       "22283697   415693980  1075|5310598|VSS 2016-07-29             89.800003\n",
       "25269976   415693980  1075|5328406|VSS 2016-08-26             34.549999\n",
       "28266846   415693980  1075|5345227|VSS 2016-09-23             37.799999\n",
       "34175401   415693980  1075|5382020|VSS 2016-11-18             35.849998"
      ]
     },
     "execution_count": 114,
     "metadata": {},
     "output_type": "execute_result"
    }
   ],
   "source": [
    "kunden415693980 = kunden415693980.drop_duplicates(subset='liefer_dtm', keep='first')\n",
    "kunden415693980"
   ]
  },
  {
   "cell_type": "code",
   "execution_count": 115,
   "metadata": {
    "scrolled": true
   },
   "outputs": [
    {
     "data": {
      "text/html": [
       "<div>\n",
       "<style scoped>\n",
       "    .dataframe tbody tr th:only-of-type {\n",
       "        vertical-align: middle;\n",
       "    }\n",
       "\n",
       "    .dataframe tbody tr th {\n",
       "        vertical-align: top;\n",
       "    }\n",
       "\n",
       "    .dataframe thead th {\n",
       "        text-align: right;\n",
       "    }\n",
       "</style>\n",
       "<table border=\"1\" class=\"dataframe\">\n",
       "  <thead>\n",
       "    <tr style=\"text-align: right;\">\n",
       "      <th></th>\n",
       "      <th>next_termin</th>\n",
       "    </tr>\n",
       "  </thead>\n",
       "  <tbody>\n",
       "    <tr>\n",
       "      <th>403358</th>\n",
       "      <td>2016-02-08</td>\n",
       "    </tr>\n",
       "    <tr>\n",
       "      <th>3924946</th>\n",
       "      <td>2016-03-17</td>\n",
       "    </tr>\n",
       "    <tr>\n",
       "      <th>8483410</th>\n",
       "      <td>2016-05-06</td>\n",
       "    </tr>\n",
       "    <tr>\n",
       "      <th>13509162</th>\n",
       "      <td>2016-07-29</td>\n",
       "    </tr>\n",
       "    <tr>\n",
       "      <th>22283697</th>\n",
       "      <td>2016-08-26</td>\n",
       "    </tr>\n",
       "    <tr>\n",
       "      <th>25269976</th>\n",
       "      <td>2016-09-23</td>\n",
       "    </tr>\n",
       "    <tr>\n",
       "      <th>28266846</th>\n",
       "      <td>2016-11-18</td>\n",
       "    </tr>\n",
       "    <tr>\n",
       "      <th>34175401</th>\n",
       "      <td>NaT</td>\n",
       "    </tr>\n",
       "  </tbody>\n",
       "</table>\n",
       "</div>"
      ],
      "text/plain": [
       "         next_termin\n",
       "403358    2016-02-08\n",
       "3924946   2016-03-17\n",
       "8483410   2016-05-06\n",
       "13509162  2016-07-29\n",
       "22283697  2016-08-26\n",
       "25269976  2016-09-23\n",
       "28266846  2016-11-18\n",
       "34175401         NaT"
      ]
     },
     "execution_count": 115,
     "metadata": {},
     "output_type": "execute_result"
    }
   ],
   "source": [
    "shifted = pd.DataFrame(kunden415693980['liefer_dtm'].shift(periods=-1)).rename(columns={'liefer_dtm': 'next_termin'})\n",
    "shifted"
   ]
  },
  {
   "cell_type": "code",
   "execution_count": 117,
   "metadata": {
    "scrolled": true
   },
   "outputs": [],
   "source": [
    "# kunden416498839 = kunden416498839.drop(labels='next_termin', axis='columns')\n",
    "kunden415693980 = kunden415693980.join(shifted).drop(kunden415693980.tail(1).index)"
   ]
  },
  {
   "cell_type": "code",
   "execution_count": 119,
   "metadata": {},
   "outputs": [
    {
     "data": {
      "text/html": [
       "<div>\n",
       "<style scoped>\n",
       "    .dataframe tbody tr th:only-of-type {\n",
       "        vertical-align: middle;\n",
       "    }\n",
       "\n",
       "    .dataframe tbody tr th {\n",
       "        vertical-align: top;\n",
       "    }\n",
       "\n",
       "    .dataframe thead th {\n",
       "        text-align: right;\n",
       "    }\n",
       "</style>\n",
       "<table border=\"1\" class=\"dataframe\">\n",
       "  <thead>\n",
       "    <tr style=\"text-align: right;\">\n",
       "      <th></th>\n",
       "      <th>kunden_oid</th>\n",
       "      <th>liefer_id</th>\n",
       "      <th>liefer_dtm</th>\n",
       "      <th>auftragswert_btr_eur</th>\n",
       "      <th>next_termin</th>\n",
       "    </tr>\n",
       "  </thead>\n",
       "  <tbody>\n",
       "    <tr>\n",
       "      <th>403358</th>\n",
       "      <td>415693980</td>\n",
       "      <td>1075|5181844|VSS</td>\n",
       "      <td>2016-01-07</td>\n",
       "      <td>40.349998</td>\n",
       "      <td>2016-02-08</td>\n",
       "    </tr>\n",
       "    <tr>\n",
       "      <th>3924946</th>\n",
       "      <td>415693980</td>\n",
       "      <td>1075|5201859|VSS</td>\n",
       "      <td>2016-02-08</td>\n",
       "      <td>39.799999</td>\n",
       "      <td>2016-03-17</td>\n",
       "    </tr>\n",
       "    <tr>\n",
       "      <th>8483410</th>\n",
       "      <td>415693980</td>\n",
       "      <td>1075|5226655|VSS</td>\n",
       "      <td>2016-03-17</td>\n",
       "      <td>64.650002</td>\n",
       "      <td>2016-05-06</td>\n",
       "    </tr>\n",
       "    <tr>\n",
       "      <th>13509162</th>\n",
       "      <td>415693980</td>\n",
       "      <td>1075|5258098|VSS</td>\n",
       "      <td>2016-05-06</td>\n",
       "      <td>37.799999</td>\n",
       "      <td>2016-07-29</td>\n",
       "    </tr>\n",
       "    <tr>\n",
       "      <th>22283697</th>\n",
       "      <td>415693980</td>\n",
       "      <td>1075|5310598|VSS</td>\n",
       "      <td>2016-07-29</td>\n",
       "      <td>89.800003</td>\n",
       "      <td>2016-08-26</td>\n",
       "    </tr>\n",
       "    <tr>\n",
       "      <th>25269976</th>\n",
       "      <td>415693980</td>\n",
       "      <td>1075|5328406|VSS</td>\n",
       "      <td>2016-08-26</td>\n",
       "      <td>34.549999</td>\n",
       "      <td>2016-09-23</td>\n",
       "    </tr>\n",
       "    <tr>\n",
       "      <th>28266846</th>\n",
       "      <td>415693980</td>\n",
       "      <td>1075|5345227|VSS</td>\n",
       "      <td>2016-09-23</td>\n",
       "      <td>37.799999</td>\n",
       "      <td>2016-11-18</td>\n",
       "    </tr>\n",
       "  </tbody>\n",
       "</table>\n",
       "</div>"
      ],
      "text/plain": [
       "          kunden_oid         liefer_id liefer_dtm  auftragswert_btr_eur next_termin\n",
       "403358     415693980  1075|5181844|VSS 2016-01-07             40.349998  2016-02-08\n",
       "3924946    415693980  1075|5201859|VSS 2016-02-08             39.799999  2016-03-17\n",
       "8483410    415693980  1075|5226655|VSS 2016-03-17             64.650002  2016-05-06\n",
       "13509162   415693980  1075|5258098|VSS 2016-05-06             37.799999  2016-07-29\n",
       "22283697   415693980  1075|5310598|VSS 2016-07-29             89.800003  2016-08-26\n",
       "25269976   415693980  1075|5328406|VSS 2016-08-26             34.549999  2016-09-23\n",
       "28266846   415693980  1075|5345227|VSS 2016-09-23             37.799999  2016-11-18"
      ]
     },
     "execution_count": 119,
     "metadata": {},
     "output_type": "execute_result"
    }
   ],
   "source": [
    "kunden415693980"
   ]
  },
  {
   "cell_type": "code",
   "execution_count": 128,
   "metadata": {},
   "outputs": [
    {
     "name": "stdout",
     "output_type": "stream",
     "text": [
      "45.142857142857146\n",
      "20.260212004719754\n"
     ]
    }
   ],
   "source": [
    "print(statistics.mean(list((kunden415693980['next_termin'] - kunden415693980['liefer_dtm']).dt.days)))\n",
    "print(statistics.stdev(list((kunden415693980['next_termin'] - kunden415693980['liefer_dtm']).dt.days)))"
   ]
  },
  {
   "cell_type": "code",
   "execution_count": 69,
   "metadata": {},
   "outputs": [
    {
     "name": "stderr",
     "output_type": "stream",
     "text": [
      "C:\\Users\\phan\\AppData\\Local\\Continuum\\anaconda3\\envs\\datascience\\lib\\site-packages\\pandas\\core\\indexing.py:362: SettingWithCopyWarning: \n",
      "A value is trying to be set on a copy of a slice from a DataFrame.\n",
      "Try using .loc[row_indexer,col_indexer] = value instead\n",
      "\n",
      "See the caveats in the documentation: http://pandas.pydata.org/pandas-docs/stable/indexing.html#indexing-view-versus-copy\n",
      "  self.obj[key] = _infer_fill_value(value)\n",
      "C:\\Users\\phan\\AppData\\Local\\Continuum\\anaconda3\\envs\\datascience\\lib\\site-packages\\pandas\\core\\indexing.py:543: SettingWithCopyWarning: \n",
      "A value is trying to be set on a copy of a slice from a DataFrame.\n",
      "Try using .loc[row_indexer,col_indexer] = value instead\n",
      "\n",
      "See the caveats in the documentation: http://pandas.pydata.org/pandas-docs/stable/indexing.html#indexing-view-versus-copy\n",
      "  self.obj[item] = s\n"
     ]
    }
   ],
   "source": [
    "kunden416498839.loc[32702625, 'next_termin'] = dt.datetime(2016, 12, 12)"
   ]
  },
  {
   "cell_type": "code",
   "execution_count": 70,
   "metadata": {},
   "outputs": [
    {
     "data": {
      "text/html": [
       "<div>\n",
       "<style scoped>\n",
       "    .dataframe tbody tr th:only-of-type {\n",
       "        vertical-align: middle;\n",
       "    }\n",
       "\n",
       "    .dataframe tbody tr th {\n",
       "        vertical-align: top;\n",
       "    }\n",
       "\n",
       "    .dataframe thead th {\n",
       "        text-align: right;\n",
       "    }\n",
       "</style>\n",
       "<table border=\"1\" class=\"dataframe\">\n",
       "  <thead>\n",
       "    <tr style=\"text-align: right;\">\n",
       "      <th></th>\n",
       "      <th>kunden_oid</th>\n",
       "      <th>liefer_id</th>\n",
       "      <th>liefer_dtm</th>\n",
       "      <th>auftragswert_btr_eur</th>\n",
       "      <th>next_termin</th>\n",
       "    </tr>\n",
       "  </thead>\n",
       "  <tbody>\n",
       "    <tr>\n",
       "      <th>6170363</th>\n",
       "      <td>416498839</td>\n",
       "      <td>1063|4280228|VSS</td>\n",
       "      <td>2016-02-29</td>\n",
       "      <td>81.449997</td>\n",
       "      <td>NaT</td>\n",
       "    </tr>\n",
       "    <tr>\n",
       "      <th>9435772</th>\n",
       "      <td>416498839</td>\n",
       "      <td>1063|4296619|VSS</td>\n",
       "      <td>2016-03-29</td>\n",
       "      <td>43.650002</td>\n",
       "      <td>NaT</td>\n",
       "    </tr>\n",
       "    <tr>\n",
       "      <th>18028323</th>\n",
       "      <td>416498839</td>\n",
       "      <td>1063|4343067|VSS</td>\n",
       "      <td>2016-06-20</td>\n",
       "      <td>29.200001</td>\n",
       "      <td>NaT</td>\n",
       "    </tr>\n",
       "    <tr>\n",
       "      <th>23912498</th>\n",
       "      <td>416498839</td>\n",
       "      <td>1063|4373771|VSS</td>\n",
       "      <td>2016-08-15</td>\n",
       "      <td>8.950000</td>\n",
       "      <td>NaT</td>\n",
       "    </tr>\n",
       "    <tr>\n",
       "      <th>23954736</th>\n",
       "      <td>416498839</td>\n",
       "      <td>1063|4373770|VSS</td>\n",
       "      <td>2016-08-15</td>\n",
       "      <td>45.200001</td>\n",
       "      <td>NaT</td>\n",
       "    </tr>\n",
       "    <tr>\n",
       "      <th>29788225</th>\n",
       "      <td>416498839</td>\n",
       "      <td>1063|4404866|VSS</td>\n",
       "      <td>2016-10-10</td>\n",
       "      <td>5.950000</td>\n",
       "      <td>NaT</td>\n",
       "    </tr>\n",
       "    <tr>\n",
       "      <th>32702625</th>\n",
       "      <td>416498839</td>\n",
       "      <td>1063|4421268|VSS</td>\n",
       "      <td>2016-11-07</td>\n",
       "      <td>23.400000</td>\n",
       "      <td>2016-12-12</td>\n",
       "    </tr>\n",
       "  </tbody>\n",
       "</table>\n",
       "</div>"
      ],
      "text/plain": [
       "          kunden_oid         liefer_id liefer_dtm  auftragswert_btr_eur next_termin\n",
       "6170363    416498839  1063|4280228|VSS 2016-02-29             81.449997         NaT\n",
       "9435772    416498839  1063|4296619|VSS 2016-03-29             43.650002         NaT\n",
       "18028323   416498839  1063|4343067|VSS 2016-06-20             29.200001         NaT\n",
       "23912498   416498839  1063|4373771|VSS 2016-08-15              8.950000         NaT\n",
       "23954736   416498839  1063|4373770|VSS 2016-08-15             45.200001         NaT\n",
       "29788225   416498839  1063|4404866|VSS 2016-10-10              5.950000         NaT\n",
       "32702625   416498839  1063|4421268|VSS 2016-11-07             23.400000  2016-12-12"
      ]
     },
     "execution_count": 70,
     "metadata": {},
     "output_type": "execute_result"
    }
   ],
   "source": [
    "kunden416498839"
   ]
  },
  {
   "cell_type": "code",
   "execution_count": 17,
   "metadata": {},
   "outputs": [
    {
     "data": {
      "text/plain": [
       "39.66920807031485"
      ]
     },
     "execution_count": 17,
     "metadata": {},
     "output_type": "execute_result"
    }
   ],
   "source": [
    "15410832  / 38848348 * 100"
   ]
  },
  {
   "cell_type": "code",
   "execution_count": 8,
   "metadata": {},
   "outputs": [
    {
     "data": {
      "text/plain": [
       "38848348"
      ]
     },
     "execution_count": 8,
     "metadata": {},
     "output_type": "execute_result"
    }
   ],
   "source": [
    "order2016['liefer_id'].nunique()"
   ]
  },
  {
   "cell_type": "code",
   "execution_count": 25,
   "metadata": {},
   "outputs": [],
   "source": [
    "order2016[['niederlassung_id', 'liefer_oid', 'VSS']] = order2016['liefer_id'].str.split('|', expand=True)"
   ]
  },
  {
   "cell_type": "code",
   "execution_count": 26,
   "metadata": {},
   "outputs": [
    {
     "data": {
      "text/html": [
       "<div>\n",
       "<style scoped>\n",
       "    .dataframe tbody tr th:only-of-type {\n",
       "        vertical-align: middle;\n",
       "    }\n",
       "\n",
       "    .dataframe tbody tr th {\n",
       "        vertical-align: top;\n",
       "    }\n",
       "\n",
       "    .dataframe thead th {\n",
       "        text-align: right;\n",
       "    }\n",
       "</style>\n",
       "<table border=\"1\" class=\"dataframe\">\n",
       "  <thead>\n",
       "    <tr style=\"text-align: right;\">\n",
       "      <th></th>\n",
       "      <th>kunden_oid</th>\n",
       "      <th>liefer_id</th>\n",
       "      <th>liefer_dtm</th>\n",
       "      <th>auftragswert_btr_eur</th>\n",
       "      <th>niederlassung_id</th>\n",
       "      <th>liefer_oid</th>\n",
       "      <th>VSS</th>\n",
       "    </tr>\n",
       "  </thead>\n",
       "  <tbody>\n",
       "    <tr>\n",
       "      <th>0</th>\n",
       "      <td>416498839</td>\n",
       "      <td>1063|4247608|VSS</td>\n",
       "      <td>2016-01-04</td>\n",
       "      <td>0.00</td>\n",
       "      <td>1063</td>\n",
       "      <td>4247608</td>\n",
       "      <td>VSS</td>\n",
       "    </tr>\n",
       "    <tr>\n",
       "      <th>1</th>\n",
       "      <td>642879669</td>\n",
       "      <td>1027|5596321|VSS</td>\n",
       "      <td>2016-01-04</td>\n",
       "      <td>15.60</td>\n",
       "      <td>1027</td>\n",
       "      <td>5596321</td>\n",
       "      <td>VSS</td>\n",
       "    </tr>\n",
       "    <tr>\n",
       "      <th>2</th>\n",
       "      <td>431596512</td>\n",
       "      <td>1049|10887493|VSS</td>\n",
       "      <td>2016-01-04</td>\n",
       "      <td>0.00</td>\n",
       "      <td>1049</td>\n",
       "      <td>10887493</td>\n",
       "      <td>VSS</td>\n",
       "    </tr>\n",
       "    <tr>\n",
       "      <th>3</th>\n",
       "      <td>652819689</td>\n",
       "      <td>1032|4292937|VSS</td>\n",
       "      <td>2016-01-04</td>\n",
       "      <td>25.85</td>\n",
       "      <td>1032</td>\n",
       "      <td>4292937</td>\n",
       "      <td>VSS</td>\n",
       "    </tr>\n",
       "    <tr>\n",
       "      <th>4</th>\n",
       "      <td>415693980</td>\n",
       "      <td>1075|5177632|VSS</td>\n",
       "      <td>2016-01-04</td>\n",
       "      <td>0.00</td>\n",
       "      <td>1075</td>\n",
       "      <td>5177632</td>\n",
       "      <td>VSS</td>\n",
       "    </tr>\n",
       "  </tbody>\n",
       "</table>\n",
       "</div>"
      ],
      "text/plain": [
       "   kunden_oid          liefer_id liefer_dtm  auftragswert_btr_eur niederlassung_id liefer_oid  VSS\n",
       "0   416498839   1063|4247608|VSS 2016-01-04                  0.00             1063    4247608  VSS\n",
       "1   642879669   1027|5596321|VSS 2016-01-04                 15.60             1027    5596321  VSS\n",
       "2   431596512  1049|10887493|VSS 2016-01-04                  0.00             1049   10887493  VSS\n",
       "3   652819689   1032|4292937|VSS 2016-01-04                 25.85             1032    4292937  VSS\n",
       "4   415693980   1075|5177632|VSS 2016-01-04                  0.00             1075    5177632  VSS"
      ]
     },
     "execution_count": 26,
     "metadata": {},
     "output_type": "execute_result"
    }
   ],
   "source": [
    "order2016.head()"
   ]
  },
  {
   "cell_type": "code",
   "execution_count": 27,
   "metadata": {},
   "outputs": [],
   "source": [
    "order2016single = order2016[['niederlassung_id', 'liefer_oid', 'kunden_oid', 'liefer_dtm', 'auftragswert_btr_eur']]"
   ]
  },
  {
   "cell_type": "code",
   "execution_count": 28,
   "metadata": {},
   "outputs": [
    {
     "data": {
      "text/html": [
       "<div>\n",
       "<style scoped>\n",
       "    .dataframe tbody tr th:only-of-type {\n",
       "        vertical-align: middle;\n",
       "    }\n",
       "\n",
       "    .dataframe tbody tr th {\n",
       "        vertical-align: top;\n",
       "    }\n",
       "\n",
       "    .dataframe thead th {\n",
       "        text-align: right;\n",
       "    }\n",
       "</style>\n",
       "<table border=\"1\" class=\"dataframe\">\n",
       "  <thead>\n",
       "    <tr style=\"text-align: right;\">\n",
       "      <th></th>\n",
       "      <th>niederlassung_id</th>\n",
       "      <th>liefer_oid</th>\n",
       "      <th>kunden_oid</th>\n",
       "      <th>liefer_dtm</th>\n",
       "      <th>auftragswert_btr_eur</th>\n",
       "    </tr>\n",
       "  </thead>\n",
       "  <tbody>\n",
       "    <tr>\n",
       "      <th>0</th>\n",
       "      <td>1063</td>\n",
       "      <td>4247608</td>\n",
       "      <td>416498839</td>\n",
       "      <td>2016-01-04</td>\n",
       "      <td>0.00</td>\n",
       "    </tr>\n",
       "    <tr>\n",
       "      <th>1</th>\n",
       "      <td>1027</td>\n",
       "      <td>5596321</td>\n",
       "      <td>642879669</td>\n",
       "      <td>2016-01-04</td>\n",
       "      <td>15.60</td>\n",
       "    </tr>\n",
       "    <tr>\n",
       "      <th>2</th>\n",
       "      <td>1049</td>\n",
       "      <td>10887493</td>\n",
       "      <td>431596512</td>\n",
       "      <td>2016-01-04</td>\n",
       "      <td>0.00</td>\n",
       "    </tr>\n",
       "    <tr>\n",
       "      <th>3</th>\n",
       "      <td>1032</td>\n",
       "      <td>4292937</td>\n",
       "      <td>652819689</td>\n",
       "      <td>2016-01-04</td>\n",
       "      <td>25.85</td>\n",
       "    </tr>\n",
       "    <tr>\n",
       "      <th>4</th>\n",
       "      <td>1075</td>\n",
       "      <td>5177632</td>\n",
       "      <td>415693980</td>\n",
       "      <td>2016-01-04</td>\n",
       "      <td>0.00</td>\n",
       "    </tr>\n",
       "  </tbody>\n",
       "</table>\n",
       "</div>"
      ],
      "text/plain": [
       "  niederlassung_id liefer_oid  kunden_oid liefer_dtm  auftragswert_btr_eur\n",
       "0             1063    4247608   416498839 2016-01-04                  0.00\n",
       "1             1027    5596321   642879669 2016-01-04                 15.60\n",
       "2             1049   10887493   431596512 2016-01-04                  0.00\n",
       "3             1032    4292937   652819689 2016-01-04                 25.85\n",
       "4             1075    5177632   415693980 2016-01-04                  0.00"
      ]
     },
     "execution_count": 28,
     "metadata": {},
     "output_type": "execute_result"
    }
   ],
   "source": [
    "order2016single.head()"
   ]
  },
  {
   "cell_type": "code",
   "execution_count": 32,
   "metadata": {},
   "outputs": [
    {
     "name": "stdout",
     "output_type": "stream",
     "text": [
      "<class 'pandas.core.frame.DataFrame'>\n",
      "Int64Index: 38848348 entries, 0 to 38848347\n",
      "Data columns (total 5 columns):\n",
      "niederlassung_id        object\n",
      "liefer_oid              object\n",
      "kunden_oid              uint32\n",
      "liefer_dtm              datetime64[ns]\n",
      "auftragswert_btr_eur    float32\n",
      "dtypes: datetime64[ns](1), float32(1), object(2), uint32(1)\n",
      "memory usage: 1.4+ GB\n"
     ]
    }
   ],
   "source": [
    "order2016single.info()"
   ]
  },
  {
   "cell_type": "code",
   "execution_count": 30,
   "metadata": {},
   "outputs": [
    {
     "name": "stdout",
     "output_type": "stream",
     "text": [
      "<class 'pandas.core.frame.DataFrame'>\n",
      "Int64Index: 38848348 entries, 0 to 38848347\n",
      "Data columns (total 7 columns):\n",
      "kunden_oid              uint32\n",
      "liefer_id               object\n",
      "liefer_dtm              datetime64[ns]\n",
      "auftragswert_btr_eur    float32\n",
      "niederlassung_id        object\n",
      "liefer_oid              object\n",
      "VSS                     object\n",
      "dtypes: datetime64[ns](1), float32(1), object(4), uint32(1)\n",
      "memory usage: 2.0+ GB\n"
     ]
    }
   ],
   "source": [
    "order2016.info()"
   ]
  },
  {
   "cell_type": "code",
   "execution_count": 25,
   "metadata": {},
   "outputs": [
    {
     "data": {
      "text/html": [
       "<div>\n",
       "<style scoped>\n",
       "    .dataframe tbody tr th:only-of-type {\n",
       "        vertical-align: middle;\n",
       "    }\n",
       "\n",
       "    .dataframe tbody tr th {\n",
       "        vertical-align: top;\n",
       "    }\n",
       "\n",
       "    .dataframe thead th {\n",
       "        text-align: right;\n",
       "    }\n",
       "</style>\n",
       "<table border=\"1\" class=\"dataframe\">\n",
       "  <thead>\n",
       "    <tr style=\"text-align: right;\">\n",
       "      <th></th>\n",
       "      <th>kunden_oid</th>\n",
       "      <th>liefer_id</th>\n",
       "      <th>liefer_dtm</th>\n",
       "      <th>auftragswert_btr_eur</th>\n",
       "    </tr>\n",
       "  </thead>\n",
       "  <tbody>\n",
       "    <tr>\n",
       "      <th>103293</th>\n",
       "      <td>495376311</td>\n",
       "      <td>1028|7219580|VSS</td>\n",
       "      <td>2016-01-04</td>\n",
       "      <td>6.45</td>\n",
       "    </tr>\n",
       "    <tr>\n",
       "      <th>127225</th>\n",
       "      <td>495376311</td>\n",
       "      <td>1028|7220319|VSS</td>\n",
       "      <td>2016-01-05</td>\n",
       "      <td>9.95</td>\n",
       "    </tr>\n",
       "    <tr>\n",
       "      <th>602323</th>\n",
       "      <td>495376311</td>\n",
       "      <td>1028|7221961|VSS</td>\n",
       "      <td>2016-01-08</td>\n",
       "      <td>7.90</td>\n",
       "    </tr>\n",
       "    <tr>\n",
       "      <th>720925</th>\n",
       "      <td>495376311</td>\n",
       "      <td>1028|7223664|VSS</td>\n",
       "      <td>2016-01-11</td>\n",
       "      <td>38.75</td>\n",
       "    </tr>\n",
       "    <tr>\n",
       "      <th>812066</th>\n",
       "      <td>495376311</td>\n",
       "      <td>1028|7224607|VSS</td>\n",
       "      <td>2016-01-12</td>\n",
       "      <td>5.95</td>\n",
       "    </tr>\n",
       "  </tbody>\n",
       "</table>\n",
       "</div>"
      ],
      "text/plain": [
       "        kunden_oid         liefer_id liefer_dtm  auftragswert_btr_eur\n",
       "103293   495376311  1028|7219580|VSS 2016-01-04                  6.45\n",
       "127225   495376311  1028|7220319|VSS 2016-01-05                  9.95\n",
       "602323   495376311  1028|7221961|VSS 2016-01-08                  7.90\n",
       "720925   495376311  1028|7223664|VSS 2016-01-11                 38.75\n",
       "812066   495376311  1028|7224607|VSS 2016-01-12                  5.95"
      ]
     },
     "execution_count": 25,
     "metadata": {},
     "output_type": "execute_result"
    }
   ],
   "source": [
    "dupRemoved = order2016[order2016['kunden_oid'] == 495376311].sort_values('liefer_dtm').drop_duplicates('liefer_dtm')\n",
    "dupRemoved.head()"
   ]
  }
 ],
 "metadata": {
  "kernelspec": {
   "display_name": "Python [conda env:datascience] *",
   "language": "python",
   "name": "conda-env-datascience-py"
  },
  "language_info": {
   "codemirror_mode": {
    "name": "ipython",
    "version": 3
   },
   "file_extension": ".py",
   "mimetype": "text/x-python",
   "name": "python",
   "nbconvert_exporter": "python",
   "pygments_lexer": "ipython3",
   "version": "3.6.8"
  }
 },
 "nbformat": 4,
 "nbformat_minor": 2
}
