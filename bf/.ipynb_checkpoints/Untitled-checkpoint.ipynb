{
 "cells": [
  {
   "cell_type": "code",
   "execution_count": 1,
   "metadata": {},
   "outputs": [],
   "source": [
    "# region Import\n",
    "import numpy as np\n",
    "import pandas as pd\n",
    "import matplotlib.pyplot as plt\n",
    "import seaborn as sns\n",
    "sns.set()\n",
    "#plt.style.use(\"fivethirtyeight\")\n",
    "pd.set_option('display.expand_frame_repr', False)\n",
    "# endregion"
   ]
  },
  {
   "cell_type": "code",
   "execution_count": 2,
   "metadata": {},
   "outputs": [
    {
     "name": "stderr",
     "output_type": "stream",
     "text": [
      "C:\\Users\\phan\\AppData\\Local\\Continuum\\anaconda3\\lib\\site-packages\\IPython\\core\\interactiveshell.py:3020: DtypeWarning: Columns (8,9,10) have mixed types. Specify dtype option on import or set low_memory=False.\n",
      "  interactivity=interactivity, compiler=compiler, result=result)\n"
     ]
    }
   ],
   "source": [
    "# region Import Data\n",
    "produkte    = \"C:/Users/phan/OneDrive - adesso Group/bofrost/export-Produkte\"\n",
    "tour     = \"C:/Users/phan/OneDrive - adesso Group/bofrost/export-Kunden_TourenDaten_50k_DE\"\n",
    "produkte    = pd.read_csv(produkte)\n",
    "tour     = pd.read_csv(tour, parse_dates=[\"liefer_dtm\"])\n",
    "# endregion"
   ]
  },
  {
   "cell_type": "code",
   "execution_count": 4,
   "metadata": {},
   "outputs": [
    {
     "name": "stdout",
     "output_type": "stream",
     "text": [
      "   kunden_oid  mitarbeiter_oid  verkaufsgebiet_oid  niederlassung_oid  firmen_land_cd liefer_dtm  auftragswert_btr_eur  bearbeitungs_cd time_stamp tw_bearbeitung_cd tour_dtm\n",
      "0   500643321         19123570                  10               1021              49 2017-03-20                  73.5                9        NaN               NaN      NaN\n",
      "1    70235034         12601192                   1               1148              49 2017-03-20                   0.0                1        NaN               NaN      NaN\n",
      "2   403635924         19122415                  16               1043              49 2017-02-25                   9.9                9        NaN               NaN      NaN\n",
      "3   732065377         45101055                  10               1152              49 2017-05-06                   3.8                0        NaN               NaN      NaN\n",
      "4   732065377         45101055                  10               1152              49 2017-05-06                   5.7                9        NaN               NaN      NaN\n",
      "<class 'pandas.core.frame.DataFrame'>\n",
      "RangeIndex: 2764946 entries, 0 to 2764945\n",
      "Data columns (total 11 columns):\n",
      "kunden_oid              int64\n",
      "mitarbeiter_oid         int64\n",
      "verkaufsgebiet_oid      int64\n",
      "niederlassung_oid       int64\n",
      "firmen_land_cd          int64\n",
      "liefer_dtm              datetime64[ns]\n",
      "auftragswert_btr_eur    float64\n",
      "bearbeitungs_cd         int64\n",
      "time_stamp              object\n",
      "tw_bearbeitung_cd       object\n",
      "tour_dtm                object\n",
      "dtypes: datetime64[ns](1), float64(1), int64(6), object(3)\n",
      "memory usage: 232.0+ MB\n",
      "None\n"
     ]
    }
   ],
   "source": [
    "print(tour.head())\n",
    "print(tour.info())"
   ]
  }
 ],
 "metadata": {
  "kernelspec": {
   "display_name": "Python 3",
   "language": "python",
   "name": "python3"
  },
  "language_info": {
   "codemirror_mode": {
    "name": "ipython",
    "version": 3
   },
   "file_extension": ".py",
   "mimetype": "text/x-python",
   "name": "python",
   "nbconvert_exporter": "python",
   "pygments_lexer": "ipython3",
   "version": "3.6.8"
  }
 },
 "nbformat": 4,
 "nbformat_minor": 2
}
